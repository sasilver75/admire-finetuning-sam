{
 "cells": [
  {
   "cell_type": "code",
   "execution_count": 2,
   "metadata": {},
   "outputs": [],
   "source": [
    "import os\n",
    "from dotenv import load_dotenv\n",
    "from datasets import load_dataset\n",
    "import random"
   ]
  },
  {
   "cell_type": "code",
   "execution_count": 3,
   "metadata": {},
   "outputs": [],
   "source": [
    "load_dotenv()\n",
    "if os.environ.get(\"HUGGINGFACE_TOKEN\") is None:\n",
    "    raise ValueError(\"HUGGINGFACE_TOKEN not set\")\n"
   ]
  },
  {
   "cell_type": "code",
   "execution_count": 4,
   "metadata": {},
   "outputs": [],
   "source": [
    "RANDOM_SEED = 42\n",
    "random.seed(RANDOM_SEED)"
   ]
  },
  {
   "cell_type": "code",
   "execution_count": 5,
   "metadata": {},
   "outputs": [],
   "source": [
    "# First, let's try to download the dataset from HuggingFace\n",
    "# We don't need to use a token, because it's a public dataset.\n",
    "dataset_name = \"UCSC-Admire/idiom-dataset-100-2024-11-11_14-37-58\"\n",
    "dataset = load_dataset(dataset_name, split=\"train\")\n"
   ]
  },
  {
   "cell_type": "code",
   "execution_count": 12,
   "metadata": {},
   "outputs": [],
   "source": [
    "def convert_to_conversation(sample: dict):\n",
    "    # 1. Create list of (original_position, image) pairs\n",
    "    original_images = [\n",
    "        (i, sample[f\"image_{i}\"])\n",
    "        for i in range(1, 6)\n",
    "    ]\n",
    "    \n",
    "    # 2. Create a shuffled version of this list\n",
    "    shuffled_images = original_images.copy()\n",
    "    random.shuffle(shuffled_images)\n",
    "    \n",
    "    # 3. Assign letters A-E to the shuffled images\n",
    "    letters = list(\"ABCDE\")\n",
    "    images_with_letters = [\n",
    "        (letter, image)\n",
    "        for letter, (_, image) in zip(letters, shuffled_images)\n",
    "    ]\n",
    "    \n",
    "    # 4. Create mapping of original_position to assigned letter\n",
    "    original_to_letter = {\n",
    "        orig_pos: letter\n",
    "        for (orig_pos, _), (letter, _) in zip(shuffled_images, images_with_letters)\n",
    "    }\n",
    "    \n",
    "    # Now the correct order is the letters assigned to positions 1,2,3,4,5\n",
    "    correct_order = [original_to_letter[i] for i in range(1, 6)]\n",
    "\n",
    "    # print(f\"Original order: {original_images}\\n\")\n",
    "    # print(f\"Shuffled order: {shuffled_images}\\n\")\n",
    "    # print(f\"Shuffled order with letters: {images_with_letters}\\n\")\n",
    "    # print(f\"Original to letter: {original_to_letter}\\n\")\n",
    "    # print(f\"Correct order: {correct_order}\\n\")\n",
    "    \n",
    "    instruction = f\"\"\"You are given a compound, its use in a sentence (which determines whether a compound should be interpreted literally or idiomatically), and five images.\n",
    "    The images have been given aliases of {', '.join(letters)}, respectively.\n",
    "    Rank the images from most to least relevant, based on how well they represent the compound (in either a literal or idiomatic sense, based on how it's used in the sentence).\n",
    "    Return the ranking of the images as a comma-separated list of the aliases, from most to least relevant.\n",
    "    \n",
    "    As an example, if your predicted ranking from most to least relevant is B, C, A, E, D, then you should respond with \"B, C, A, E, D\".\"\"\"\n",
    "\n",
    "    correct_response = f\"{', '.join(correct_order)}\"\n",
    "\n",
    "    conversation = [\n",
    "        {\n",
    "            \"role\": \"user\",\n",
    "            \"content\": [\n",
    "                {\"type\": \"text\", \"text\": instruction},\n",
    "                *[{\"type\": \"image\", \"image\": img} for _, img in shuffled_images]\n",
    "            ]\n",
    "        },\n",
    "        {\n",
    "            \"role\": \"assistant\",\n",
    "            \"content\": [\n",
    "                {\"type\": \"text\", \"text\": correct_response}\n",
    "            ]\n",
    "        }\n",
    "    ]\n",
    "\n",
    "    return {\"messages\": conversation}"
   ]
  },
  {
   "cell_type": "code",
   "execution_count": null,
   "metadata": {},
   "outputs": [],
   "source": []
  }
 ],
 "metadata": {
  "kernelspec": {
   "display_name": "venv",
   "language": "python",
   "name": "python3"
  },
  "language_info": {
   "codemirror_mode": {
    "name": "ipython",
    "version": 3
   },
   "file_extension": ".py",
   "mimetype": "text/x-python",
   "name": "python",
   "nbconvert_exporter": "python",
   "pygments_lexer": "ipython3",
   "version": "3.12.6"
  }
 },
 "nbformat": 4,
 "nbformat_minor": 2
}
